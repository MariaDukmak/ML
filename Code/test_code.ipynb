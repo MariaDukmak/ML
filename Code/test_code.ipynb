{
 "cells": [
  {
   "cell_type": "markdown",
   "metadata": {},
   "source": [
    "## Test het leeralgoritme van je Perceptron"
   ]
  },
  {
   "cell_type": "code",
   "execution_count": 1,
   "metadata": {},
   "outputs": [],
   "source": [
    "import sys\n",
    "sys.path.append(\"/Users/marya/OneDrive/Bureaublad/ML\")\n",
    "import perceptronNetwork\n",
    "import perceptron\n",
    "import perceptronLayer\n",
    "\n",
    "from sklearn.datasets import load_iris\n",
    "import random"
   ]
  },
  {
   "cell_type": "markdown",
   "metadata": {},
   "source": [
    "#### a. Train de perceptron tot het de AND-functie heeft geleerd. Initialiseer een perceptron met willekeurige startwaarden. Wat zijn de uiteindelijke parameters van de perceptron?"
   ]
  },
  {
   "cell_type": "markdown",
   "metadata": {},
   "source": [
    "Voor het testen van de AND gate gaan we met dezelfde stettings beginnen zoals die op [Canvas](https://canvas.hu.nl/courses/20311/pages/perceptron-learning-rule?module_item_id=466781) staan. "
   ]
  },
  {
   "cell_type": "markdown",
   "metadata": {},
   "source": [
    "De output van de trainen/update() moet bij $x1=1, x2=1$ een __weight van [0.30, 1.3]__ en een __bias van 0.7__"
   ]
  },
  {
   "cell_type": "markdown",
   "metadata": {},
   "source": [
    "We maken eerst de perceptron aan"
   ]
  },
  {
   "cell_type": "code",
   "execution_count": 2,
   "metadata": {},
   "outputs": [],
   "source": [
    "random_weight,random_bias=[-0.5,0.5], -1.5"
   ]
  },
  {
   "cell_type": "code",
   "execution_count": 3,
   "metadata": {},
   "outputs": [],
   "source": [
    "p = perceptron.Perceptron(weights=random_weight, bias=random_bias, threshold=0)    "
   ]
  },
  {
   "cell_type": "markdown",
   "metadata": {},
   "source": [
    "Vervolgens geven we de inputs en de verwachte outputs mee"
   ]
  },
  {
   "cell_type": "code",
   "execution_count": 4,
   "metadata": {},
   "outputs": [],
   "source": [
    "inputs = [[0,0],[0,1],[1,0],[1,1]]\n",
    "outputs = [0, 0, 0, 1]"
   ]
  },
  {
   "cell_type": "code",
   "execution_count": 5,
   "metadata": {},
   "outputs": [
    {
     "name": "stdout",
     "output_type": "stream",
     "text": [
      "Perceptron: weights=[-0.5, 0.5], bias=-1.5\n",
      "Perceptron: weights=[-0.5, 0.5], bias=-1.5\n",
      "Perceptron: weights=[-0.5, 0.5], bias=-1.5\n",
      "Perceptron: weights=[0.30000000000000004, 1.3], bias=-0.7\n"
     ]
    }
   ],
   "source": [
    "for input, output in zip(inputs, outputs):\n",
    "    p.update(input, output, learning_rate=0.8)\n",
    "    print(p)"
   ]
  },
  {
   "cell_type": "markdown",
   "metadata": {},
   "source": [
    "We zien dat hij bij de input $\\color{green}{\\text{[1,1]}}$ de weight en de bias heeft veranderd. Dat komt omdat hij anders niet $\\color{green}{\\text{1}}$ terug van de activation functie krijgt zoals wij zouden verwachten. "
   ]
  },
  {
   "cell_type": "markdown",
   "metadata": {},
   "source": [
    "#### b. Train de perceptron tot het de XOR-functie heeft geleerd. Initialiseer een perceptron met willekeurige startwaarden. Wat zijn de uiteindelijke parameters van de perceptron?"
   ]
  },
  {
   "cell_type": "code",
   "execution_count": 6,
   "metadata": {},
   "outputs": [],
   "source": [
    "random_weight,random_bias=[1,1], -1"
   ]
  },
  {
   "cell_type": "code",
   "execution_count": 7,
   "metadata": {},
   "outputs": [],
   "source": [
    "p = perceptron.Perceptron(weights=random_weight, bias=random_bias, threshold=0)    "
   ]
  },
  {
   "cell_type": "code",
   "execution_count": 8,
   "metadata": {},
   "outputs": [],
   "source": [
    "inputs = [[0,0],[0,1],[1,0],[1,1], [0,1], [1,1]]\n",
    "outputs = [0, 1, 1, 0, 1, 0]"
   ]
  },
  {
   "cell_type": "code",
   "execution_count": 9,
   "metadata": {},
   "outputs": [
    {
     "name": "stdout",
     "output_type": "stream",
     "text": [
      "Perceptron: weights=[1.0, 1.0], bias=-1.0\n",
      "Perceptron: weights=[1.0, 1.8], bias=-0.19999999999999996\n",
      "Perceptron: weights=[1.8, 1.8], bias=0.6000000000000001\n",
      "Perceptron: weights=[1.8, 1.8], bias=0.6000000000000001\n",
      "Perceptron: weights=[1.8, 2.6], bias=1.4000000000000001\n",
      "Perceptron: weights=[1.8, 2.6], bias=1.4000000000000001\n"
     ]
    }
   ],
   "source": [
    "for input, output in zip(inputs, outputs):\n",
    "    p.update(input, output, learning_rate=0.8)\n",
    "    print(p)"
   ]
  },
  {
   "cell_type": "markdown",
   "metadata": {},
   "source": [
    "Ik denk dat deze niet gelukt is aangezien je geen XOR gate kan maken van een singel netwerk/een laag."
   ]
  },
  {
   "cell_type": "markdown",
   "metadata": {},
   "source": [
    "### Train de perceptron om de Iris-dataset te classificeren"
   ]
  },
  {
   "cell_type": "markdown",
   "metadata": {},
   "source": [
    "ii. Classificeer daarna alle drie de types, dus ook Verginica. Wat zijn de uiteindelijke parameters van de perceptron?"
   ]
  },
  {
   "cell_type": "code",
   "execution_count": 10,
   "metadata": {},
   "outputs": [],
   "source": [
    "random.seed(1756450)"
   ]
  },
  {
   "cell_type": "code",
   "execution_count": 11,
   "metadata": {},
   "outputs": [],
   "source": [
    "def random_number(n=1):\n",
    "    if n == 1:\n",
    "        return random.randrange(-10, 10)\n",
    "    else: return [random.randrange(-10, 10) for i in range((n))]"
   ]
  },
  {
   "cell_type": "code",
   "execution_count": 12,
   "metadata": {},
   "outputs": [],
   "source": [
    "iris = load_iris()"
   ]
  },
  {
   "cell_type": "code",
   "execution_count": 13,
   "metadata": {},
   "outputs": [],
   "source": [
    "target_names = iris['target_names']"
   ]
  },
  {
   "cell_type": "code",
   "execution_count": 14,
   "metadata": {},
   "outputs": [],
   "source": [
    "feature_name = iris['feature_names']"
   ]
  },
  {
   "cell_type": "code",
   "execution_count": 15,
   "metadata": {},
   "outputs": [],
   "source": [
    "iris_data = iris['data']"
   ]
  },
  {
   "cell_type": "code",
   "execution_count": 16,
   "metadata": {},
   "outputs": [],
   "source": [
    "target = iris['target']"
   ]
  },
  {
   "cell_type": "markdown",
   "metadata": {},
   "source": [
    "i. Classificeer eerst alleen de types Setosa en Versicolour. Wat zijn de uiteindelijke parameters van de perceptron?"
   ]
  },
  {
   "cell_type": "code",
   "execution_count": 17,
   "metadata": {},
   "outputs": [],
   "source": [
    "twee_targets = iris_data[:1000]"
   ]
  },
  {
   "cell_type": "code",
   "execution_count": 18,
   "metadata": {},
   "outputs": [],
   "source": [
    "twee_target = target[:1000]"
   ]
  },
  {
   "cell_type": "code",
   "execution_count": 19,
   "metadata": {},
   "outputs": [],
   "source": [
    "p = perceptron.Perceptron(weights=random_number(4), bias=random_number(), threshold=random_number())  "
   ]
  },
  {
   "cell_type": "code",
   "execution_count": 20,
   "metadata": {},
   "outputs": [
    {
     "name": "stdout",
     "output_type": "stream",
     "text": [
      "Perceptron: weights=[-6, -4, -5, 2], bias=-8\n"
     ]
    }
   ],
   "source": [
    "print(p)"
   ]
  },
  {
   "cell_type": "code",
   "execution_count": 23,
   "metadata": {},
   "outputs": [],
   "source": [
    "def run(p, e= 10):\n",
    "    for i in range(10):\n",
    "        pass"
   ]
  },
  {
   "cell_type": "code",
   "execution_count": null,
   "metadata": {},
   "outputs": [],
   "source": []
  }
 ],
 "metadata": {
  "kernelspec": {
   "display_name": "Python 3",
   "language": "python",
   "name": "python3"
  },
  "language_info": {
   "codemirror_mode": {
    "name": "ipython",
    "version": 3
   },
   "file_extension": ".py",
   "mimetype": "text/x-python",
   "name": "python",
   "nbconvert_exporter": "python",
   "pygments_lexer": "ipython3",
   "version": "3.7.4"
  }
 },
 "nbformat": 4,
 "nbformat_minor": 2
}
