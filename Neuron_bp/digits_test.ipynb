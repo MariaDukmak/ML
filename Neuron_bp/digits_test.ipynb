{
 "cells": [
  {
   "cell_type": "markdown",
   "metadata": {},
   "source": [
    "## Digits dataset test\n"
   ]
  },
  {
   "cell_type": "code",
   "execution_count": 1,
   "metadata": {},
   "outputs": [],
   "source": [
    "from sklearn import datasets,preprocessing\n",
    "import sys, random, time, pandas as pd, numpy as np\n",
    "sys.path.append(\"/Users/marya/OneDrive/Bureaublad/ML2\")\n",
    "from neuron_bp import Neuron \n",
    "from neuron_layer_bp import Neuron_layer\n",
    "from neuron_network_bp import Neuron_network\n",
    "from sklearn.model_selection import train_test_split"
   ]
  },
  {
   "cell_type": "markdown",
   "metadata": {},
   "source": [
    "### Maak een rondom genrater functie aan"
   ]
  },
  {
   "cell_type": "code",
   "execution_count": 2,
   "metadata": {},
   "outputs": [],
   "source": [
    "def random_number(n=1):\n",
    "    return [random.random() for i in range((n))]"
   ]
  },
  {
   "cell_type": "code",
   "execution_count": 4,
   "metadata": {},
   "outputs": [],
   "source": [
    "def cal_score(target, data):\n",
    "    antw = []\n",
    "    for i , n in zip(target, data):\n",
    "        predict = netwerk.feed_forward(n)\n",
    "        antw.append(i[np.argmax(predict)])\n",
    "\n",
    "    return (sum(antw)/len(target)*100)"
   ]
  },
  {
   "cell_type": "markdown",
   "metadata": {},
   "source": [
    "### Data opsplitsen en reshapen"
   ]
  },
  {
   "cell_type": "code",
   "execution_count": 5,
   "metadata": {},
   "outputs": [],
   "source": [
    "digits = datasets.load_digits()\n",
    "digits.target = pd.get_dummies(digits.target)"
   ]
  },
  {
   "cell_type": "code",
   "execution_count": 6,
   "metadata": {},
   "outputs": [],
   "source": [
    "targets = [list(digits.target.iloc[i].values) for i in range(len(digits.data))]\n",
    "data = [list(digits.data[i]) for i in range(len(digits.data))]"
   ]
  },
  {
   "cell_type": "markdown",
   "metadata": {},
   "source": [
    "Normalize de data inputs voor de netwerk"
   ]
  },
  {
   "cell_type": "code",
   "execution_count": 7,
   "metadata": {},
   "outputs": [],
   "source": [
    "data = preprocessing.normalize(data)"
   ]
  },
  {
   "cell_type": "markdown",
   "metadata": {},
   "source": [
    "We spliten de data en de targets in trein en test set"
   ]
  },
  {
   "cell_type": "code",
   "execution_count": 8,
   "metadata": {},
   "outputs": [],
   "source": [
    "X_train, X_test, y_train, y_test = train_test_split(data, targets, test_size=0.23, random_state=50)"
   ]
  },
  {
   "cell_type": "markdown",
   "metadata": {},
   "source": [
    "### Aanmaken van het netwerk"
   ]
  },
  {
   "cell_type": "code",
   "execution_count": 9,
   "metadata": {},
   "outputs": [],
   "source": [
    "def create_neurons(size, weights_size):\n",
    "    neurons = []\n",
    "    for _ in range(size):\n",
    "        neurons.append(Neuron(weights = [random.randrange(-1, 2) for _ in range(weights_size)], bias = 0))\n",
    "        \n",
    "    layer = Neuron_layer(neurons = neurons)\n",
    "    return layer"
   ]
  },
  {
   "cell_type": "markdown",
   "metadata": {},
   "source": [
    "Deze dataset is anders dan wat we gewend zijn. Hier hebben te maken met groote aantaal inputs (64) en de uitput moet een getal tussen 0 en 9 zijn.\n",
    "\n",
    "Dus ik begin eerst met het aamken van de uitput laag:"
   ]
  },
  {
   "cell_type": "code",
   "execution_count": 10,
   "metadata": {},
   "outputs": [],
   "source": [
    "output_layer = create_neurons(10, 4)"
   ]
  },
  {
   "cell_type": "markdown",
   "metadata": {},
   "source": [
    "We gaan nog 2 hidden layers aanmaken met verschilende weights en hoevelheid neurons\n",
    "\n",
    "\n",
    "\n",
    "Zoals volgt:"
   ]
  },
  {
   "cell_type": "code",
   "execution_count": 11,
   "metadata": {},
   "outputs": [],
   "source": [
    "hidden_layer1 = create_neurons(8, 64)"
   ]
  },
  {
   "cell_type": "code",
   "execution_count": 12,
   "metadata": {},
   "outputs": [],
   "source": [
    "hidden_layer2 = create_neurons(4, 8)"
   ]
  },
  {
   "cell_type": "markdown",
   "metadata": {},
   "source": [
    "Maak het netwerk aan met de 3 layers"
   ]
  },
  {
   "cell_type": "code",
   "execution_count": 13,
   "metadata": {},
   "outputs": [],
   "source": [
    "netwerk = Neuron_network(layers = [hidden_layer1, hidden_layer2, output_layer])"
   ]
  },
  {
   "cell_type": "markdown",
   "metadata": {},
   "source": [
    "Nu gaan de netwerk trainen:"
   ]
  },
  {
   "cell_type": "code",
   "execution_count": 14,
   "metadata": {},
   "outputs": [
    {
     "name": "stdout",
     "output_type": "stream",
     "text": [
      "total loss 0.05973038892492885\n",
      "epoches 208\n",
      "Het trainien heeft 200.59588360786438 seconden geduurt\n"
     ]
    }
   ],
   "source": [
    "start_time = time.time()\n",
    "netwerk.train(X_train, y_train, learning_rate = 0.4, epoches= 10000)\n",
    "print(f\"Het trainien heeft {time.time()-start_time} seconden geduurt\")"
   ]
  },
  {
   "cell_type": "code",
   "execution_count": 15,
   "metadata": {},
   "outputs": [
    {
     "data": {
      "text/plain": [
       "54.953000723065806"
      ]
     },
     "execution_count": 15,
     "metadata": {},
     "output_type": "execute_result"
    }
   ],
   "source": [
    "cal_score(y_train, X_train)"
   ]
  },
  {
   "cell_type": "code",
   "execution_count": 16,
   "metadata": {},
   "outputs": [
    {
     "data": {
      "text/plain": [
       "59.90338164251207"
      ]
     },
     "execution_count": 16,
     "metadata": {},
     "output_type": "execute_result"
    }
   ],
   "source": [
    "cal_score(y_test, X_test)"
   ]
  }
 ],
 "metadata": {
  "kernelspec": {
   "display_name": "Python 3",
   "language": "python",
   "name": "python3"
  },
  "language_info": {
   "codemirror_mode": {
    "name": "ipython",
    "version": 3
   },
   "file_extension": ".py",
   "mimetype": "text/x-python",
   "name": "python",
   "nbconvert_exporter": "python",
   "pygments_lexer": "ipython3",
   "version": "3.7.4"
  }
 },
 "nbformat": 4,
 "nbformat_minor": 2
}
