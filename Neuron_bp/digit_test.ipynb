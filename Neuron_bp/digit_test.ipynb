{
 "cells": [
  {
   "cell_type": "code",
   "execution_count": 4,
   "metadata": {},
   "outputs": [],
   "source": [
    "from sklearn import datasets \n",
    "from sklearn.metrics import accuracy_score, confusion_matrix\n",
    "import sys, random, pandas as pd\n",
    "# import neuron_bp, neuron_layer_bp, neuron_network_bp\n",
    "sys.path.append(\"/Users/marya/OneDrive/Bureaublad/ML2\")\n",
    "from neuron_bp import Neuron \n",
    "from neuron_layer_bp import Neuron_layer\n",
    "from neuron_network_bp import Neuron_network\n",
    "from sklearn.model_selection import train_test_split"
   ]
  },
  {
   "cell_type": "code",
   "execution_count": 6,
   "metadata": {},
   "outputs": [],
   "source": [
    "digits = datasets.load_digits()\n",
    "digits.target = pd.get_dummies(digits.target)"
   ]
  },
  {
   "cell_type": "code",
   "execution_count": 7,
   "metadata": {},
   "outputs": [],
   "source": [
    "def random_number(n=1):\n",
    "    return [random.uniform(0, 1) for i in range((n))]"
   ]
  },
  {
   "cell_type": "code",
   "execution_count": 9,
   "metadata": {},
   "outputs": [],
   "source": [
    "inputs = []\n",
    "targets = []\n",
    "for i in range(len(digits.data)):\n",
    "    inputs.append(list(digits.data[i]))\n",
    "    targets.append(list(digits.target.iloc[i].values))"
   ]
  },
  {
   "cell_type": "code",
   "execution_count": 19,
   "metadata": {},
   "outputs": [],
   "source": [
    "X_train, X_test, y_train, y_test = train_test_split(digits.data, targets, test_size=0.43, random_state=20)"
   ]
  },
  {
   "cell_type": "code",
   "execution_count": 27,
   "metadata": {},
   "outputs": [
    {
     "data": {
      "text/plain": [
       "array([ 0.,  0.,  0.,  0.,  9., 13.,  0.,  0.,  0.,  0.,  0.,  2., 16.,\n",
       "       16.,  1.,  0.,  0.,  0.,  0.,  5.,  9., 15.,  0.,  0.,  0.,  0.,\n",
       "        0.,  0.,  5., 14.,  0.,  0.,  0.,  0.,  0.,  3., 15.,  7.,  0.,\n",
       "        0.,  0.,  7., 16., 16., 11.,  0.,  0.,  0.,  0.,  0., 11., 14.,\n",
       "       16.,  7.,  3.,  0.,  0.,  0.,  0.,  0.,  9., 15.,  9.,  0.])"
      ]
     },
     "execution_count": 27,
     "metadata": {},
     "output_type": "execute_result"
    }
   ],
   "source": [
    "X_train[0]"
   ]
  },
  {
   "cell_type": "code",
   "execution_count": 28,
   "metadata": {},
   "outputs": [
    {
     "data": {
      "text/plain": [
       "[0, 0, 1, 0, 0, 0, 0, 0, 0, 0]"
      ]
     },
     "execution_count": 28,
     "metadata": {},
     "output_type": "execute_result"
    }
   ],
   "source": [
    "y_train[0] "
   ]
  },
  {
   "cell_type": "code",
   "execution_count": 25,
   "metadata": {},
   "outputs": [],
   "source": [
    "n1 = Neuron(weights=random_number(4), bias=random_number())\n",
    "n2 = Neuron(weights=random_number(4), bias=random_number())\n",
    "n3 = Neuron(weights=random_number(4), bias=random_number())\n",
    "layer1 = Neuron_layer([n1, n2, n3])\n",
    "\n",
    "n4 = Neuron(weights=random_number(3), bias=random_number())\n",
    "n5 = Neuron(weights=random_number(3), bias=random_number())\n",
    "n6 = Neuron(weights=random_number(3), bias=random_number())\n",
    "layer2 = Neuron_layer([n4, n5, n6])\n",
    "\n",
    "netwerk = Neuron_network(layers=[layer1, layer2])"
   ]
  },
  {
   "cell_type": "code",
   "execution_count": 34,
   "metadata": {},
   "outputs": [],
   "source": [
    "# netwerk.train(X_train, y_train, epoches= 10000)"
   ]
  },
  {
   "cell_type": "code",
   "execution_count": 33,
   "metadata": {},
   "outputs": [
    {
     "data": {
      "text/plain": [
       "32"
      ]
     },
     "execution_count": 33,
     "metadata": {},
     "output_type": "execute_result"
    }
   ],
   "source": [
    "8*4"
   ]
  },
  {
   "cell_type": "code",
   "execution_count": null,
   "metadata": {},
   "outputs": [],
   "source": []
  }
 ],
 "metadata": {
  "kernelspec": {
   "display_name": "Python 3",
   "language": "python",
   "name": "python3"
  },
  "language_info": {
   "codemirror_mode": {
    "name": "ipython",
    "version": 3
   },
   "file_extension": ".py",
   "mimetype": "text/x-python",
   "name": "python",
   "nbconvert_exporter": "python",
   "pygments_lexer": "ipython3",
   "version": "3.7.4"
  }
 },
 "nbformat": 4,
 "nbformat_minor": 2
}
