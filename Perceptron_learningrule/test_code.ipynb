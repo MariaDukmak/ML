{
 "cells": [
  {
   "cell_type": "markdown",
   "metadata": {},
   "source": [
    "## Test het leeralgoritme van je Perceptron"
   ]
  },
  {
   "cell_type": "code",
   "execution_count": 1,
   "metadata": {},
   "outputs": [],
   "source": [
    "import sys\n",
    "sys.path.append(\"/Users/marya/OneDrive/Bureaublad/ML\")\n",
    "import perceptronNetwork\n",
    "import perceptron\n",
    "import perceptronLayer\n",
    "import random\n",
    "from sklearn.datasets import load_iris"
   ]
  },
  {
   "cell_type": "markdown",
   "metadata": {},
   "source": [
    "#### a. Train de perceptron tot het de AND-functie heeft geleerd. Initialiseer een perceptron met willekeurige startwaarden. Wat zijn de uiteindelijke parameters van de perceptron?"
   ]
  },
  {
   "cell_type": "markdown",
   "metadata": {},
   "source": [
    "Voor het testen van de AND gate gaan we met dezelfde stettings beginnen zoals die op [Canvas](https://canvas.hu.nl/courses/20311/pages/perceptron-learning-rule?module_item_id=466781) staan. "
   ]
  },
  {
   "cell_type": "markdown",
   "metadata": {},
   "source": [
    "De output van de trainen/update() moet bij $x1=1, x2=1$ een __weight van [0.30, 1.3]__ en een __bias van -0.7__"
   ]
  },
  {
   "cell_type": "markdown",
   "metadata": {},
   "source": [
    "We maken eerst de perceptron aan en vervolgens geven we de inputs en de verwachte outputs mee"
   ]
  },
  {
   "cell_type": "code",
   "execution_count": 2,
   "metadata": {},
   "outputs": [],
   "source": [
    "def test_AND():\n",
    "    p = perceptron.Perceptron(weights=[-0.5, 0.5], bias=-1.5, threshold=0)  \n",
    "    \n",
    "    inputs = [[0,0],[0,1],[1,0],[1,1]]\n",
    "    outputs = [0, 0, 0, 1]\n",
    "    for i in inputs:\n",
    "        p.predict(i)\n",
    "\n",
    "    for input, output in zip(inputs, outputs):\n",
    "        p.update(input, output, learning_rate=0.8)\n",
    "        print(p)\n",
    "        \n",
    "    for i in inputs:\n",
    "        p.predict(i)       "
   ]
  },
  {
   "cell_type": "code",
   "execution_count": 3,
   "metadata": {},
   "outputs": [
    {
     "name": "stdout",
     "output_type": "stream",
     "text": [
      "Perceptron: weights=[-0.5, 0.5], bias=-1.5, output =0\n",
      "Perceptron: weights=[-0.5, 0.5], bias=-1.5, output =0\n",
      "Perceptron: weights=[-0.5, 0.5], bias=-1.5, output =0\n",
      "Perceptron: weights=[0.30000000000000004, 1.3], bias=-0.7, output =0\n"
     ]
    }
   ],
   "source": [
    "test_AND()"
   ]
  },
  {
   "cell_type": "markdown",
   "metadata": {},
   "source": [
    "We zien dat hij bij de input $\\color{green}{\\text{[1,1]}}$ de weight en de bias heeft veranderd. Dat komt omdat hij anders niet $\\color{green}{\\text{1}}$ terug van de activation functie krijgt zoals wij zouden verwachten. "
   ]
  },
  {
   "cell_type": "markdown",
   "metadata": {},
   "source": [
    "\n",
    "__we testen nu de update rule met de opdracht 4.2__ "
   ]
  },
  {
   "cell_type": "code",
   "execution_count": 4,
   "metadata": {},
   "outputs": [],
   "source": [
    "def test_opdracht_AND():\n",
    "    p2 = perceptron.Perceptron(weights=[-0.5, 0.5], bias=-1.5, threshold=0)    \n",
    "    \n",
    "    inputs = [[1,1], [1,0], [0,1], [0,0], [1,1], [1,0], [0,1], [0,0], [1,1], [1,0]]\n",
    "    outputs = [1,0,0,0,1,0,0,0,1,0]\n",
    "    \n",
    "    for input, output in zip(inputs, outputs):\n",
    "        p2.update(input, output, learning_rate=0.8)\n",
    "        print(p2)"
   ]
  },
  {
   "cell_type": "code",
   "execution_count": 5,
   "metadata": {},
   "outputs": [
    {
     "name": "stdout",
     "output_type": "stream",
     "text": [
      "Perceptron: weights=[0.30000000000000004, 1.3], bias=-0.7, output =0\n",
      "Perceptron: weights=[0.30000000000000004, 1.3], bias=-0.7, output =0\n",
      "Perceptron: weights=[0.30000000000000004, 0.5], bias=-1.5, output =1\n",
      "Perceptron: weights=[0.30000000000000004, 0.5], bias=-1.5, output =0\n",
      "Perceptron: weights=[1.1, 1.3], bias=-0.7, output =0\n",
      "Perceptron: weights=[0.30000000000000004, 1.3], bias=-1.5, output =1\n",
      "Perceptron: weights=[0.30000000000000004, 1.3], bias=-1.5, output =0\n",
      "Perceptron: weights=[0.30000000000000004, 1.3], bias=-1.5, output =0\n",
      "Perceptron: weights=[0.30000000000000004, 1.3], bias=-1.5, output =1\n",
      "Perceptron: weights=[0.30000000000000004, 1.3], bias=-1.5, output =0\n"
     ]
    }
   ],
   "source": [
    "test_opdracht_AND()"
   ]
  },
  {
   "cell_type": "markdown",
   "metadata": {},
   "source": [
    "_______________________________________________________________________________________"
   ]
  },
  {
   "cell_type": "markdown",
   "metadata": {},
   "source": [
    "#### b. Train de perceptron tot het de XOR-functie heeft geleerd. Initialiseer een perceptron met willekeurige startwaarden. Wat zijn de uiteindelijke parameters van de perceptron?"
   ]
  },
  {
   "cell_type": "code",
   "execution_count": 6,
   "metadata": {},
   "outputs": [],
   "source": [
    "random_weight,random_bias=[1,1], -1"
   ]
  },
  {
   "cell_type": "code",
   "execution_count": 7,
   "metadata": {},
   "outputs": [],
   "source": [
    "p = perceptron.Perceptron(weights=random_weight, bias=random_bias, threshold=0)    "
   ]
  },
  {
   "cell_type": "code",
   "execution_count": 8,
   "metadata": {},
   "outputs": [],
   "source": [
    "inputs = [[1,1], [1,0], [0,1], [0,0], [1,1], [0,1]]\n",
    "outputs = [0,1,1,0,0,1]"
   ]
  },
  {
   "cell_type": "code",
   "execution_count": 9,
   "metadata": {},
   "outputs": [
    {
     "name": "stdout",
     "output_type": "stream",
     "text": [
      "Perceptron: weights=[0.5, 0.5], bias=-1.5, output =1\n",
      "Perceptron: weights=[1.0, 0.5], bias=-1.0, output =0\n",
      "Perceptron: weights=[1.0, 1.0], bias=-0.5, output =0\n",
      "Perceptron: weights=[1.0, 1.0], bias=-0.5, output =0\n",
      "Perceptron: weights=[0.5, 0.5], bias=-1.0, output =1\n",
      "Perceptron: weights=[0.5, 1.0], bias=-0.5, output =0\n"
     ]
    }
   ],
   "source": [
    "for input, output in zip(inputs, outputs):\n",
    "    p.update(input, output, learning_rate=0.5)\n",
    "    print(p)"
   ]
  },
  {
   "cell_type": "markdown",
   "metadata": {},
   "source": [
    "Ik denk dat deze niet gelukt is aangezien je geen XOR gate kan maken van een singel netwerk/een laag."
   ]
  }
 ],
 "metadata": {
  "kernelspec": {
   "display_name": "Python 3",
   "language": "python",
   "name": "python3"
  },
  "language_info": {
   "codemirror_mode": {
    "name": "ipython",
    "version": 3
   },
   "file_extension": ".py",
   "mimetype": "text/x-python",
   "name": "python",
   "nbconvert_exporter": "python",
   "pygments_lexer": "ipython3",
   "version": "3.7.4"
  }
 },
 "nbformat": 4,
 "nbformat_minor": 2
}
