{
 "cells": [
  {
   "cell_type": "markdown",
   "metadata": {},
   "source": [
    "### Train de perceptron om de Iris-dataset te classificeren"
   ]
  },
  {
   "cell_type": "code",
   "execution_count": 1,
   "metadata": {},
   "outputs": [
    {
     "name": "stderr",
     "output_type": "stream",
     "text": [
      "C:\\Users\\marya\\Anaconda3\\lib\\site-packages\\statsmodels\\tools\\_testing.py:19: FutureWarning: pandas.util.testing is deprecated. Use the functions in the public API at pandas.testing instead.\n",
      "  import pandas.util.testing as tm\n"
     ]
    }
   ],
   "source": [
    "from sklearn.datasets import load_iris\n",
    "from sklearn.metrics import accuracy_score, confusion_matrix\n",
    "from typing import List\n",
    "import seaborn as sns,random, pandas as pd, matplotlib.pyplot as plt, sys, perceptron \n",
    "sys.path.append(\"/Users/marya/OneDrive/Bureaublad/ML\")"
   ]
  },
  {
   "cell_type": "markdown",
   "metadata": {},
   "source": [
    "Set de random seed gelijk aan mijn studentennummer zoals het in de opdracht stond."
   ]
  },
  {
   "cell_type": "code",
   "execution_count": 2,
   "metadata": {},
   "outputs": [],
   "source": [
    "random.seed(1756450)"
   ]
  },
  {
   "cell_type": "markdown",
   "metadata": {},
   "source": [
    "We maken eerst een functie aan die random getallen kan genereren."
   ]
  },
  {
   "cell_type": "code",
   "execution_count": 3,
   "metadata": {},
   "outputs": [],
   "source": [
    "def random_number(n=1):\n",
    "    return [random.randrange(-10, 10) for i in range((n))]"
   ]
  },
  {
   "cell_type": "markdown",
   "metadata": {},
   "source": [
    "Nu tijd om de data set te loaden en met de opdracht te beginnen! "
   ]
  },
  {
   "cell_type": "code",
   "execution_count": 4,
   "metadata": {},
   "outputs": [],
   "source": [
    "iris = load_iris()"
   ]
  },
  {
   "cell_type": "markdown",
   "metadata": {},
   "source": [
    "We pakken de data en de targets van de dataset. Die gaan we verolgens verder gebruiken bij het trainen van de perceptron."
   ]
  },
  {
   "cell_type": "code",
   "execution_count": 5,
   "metadata": {},
   "outputs": [],
   "source": [
    "data, target = iris['data'], iris[\"target\"]"
   ]
  },
  {
   "cell_type": "markdown",
   "metadata": {},
   "source": [
    "De laatste stap van de voorberieding is een functie schrijven die een perceptron aanamken een updaten!"
   ]
  },
  {
   "cell_type": "code",
   "execution_count": 6,
   "metadata": {},
   "outputs": [],
   "source": [
    "def test(data:List[float], target:List[float], num_weight:int)->list:\n",
    "    \"\"\"\n",
    "    Een functie die een preceptron aanmaakt met random parameters en vervolgens update.\n",
    "    :return\n",
    "        List van de nieuwe predicts\n",
    "    \"\"\"\n",
    "    perceptronn = perceptron.Perceptron(weights=random_number(num_weight), bias=random_number(), threshold=random_number())  \n",
    "    print(f\"perceptron voor de update {perceptronn}\")\n",
    "    \n",
    "    for _ in range(100):\n",
    "        for n in range(len(data)):\n",
    "            perceptronn.update(data[n], target[n])\n",
    "    print(f\"perceptron na de update {perceptronn}\")\n",
    "    \n",
    "    return [perceptronn.predict(data[i]) for i in range(len(data))]"
   ]
  },
  {
   "cell_type": "markdown",
   "metadata": {},
   "source": [
    "__ii. Classificeer daarna alle drie de types, dus ook Verginica. Wat zijn de uiteindelijke parameters van de perceptron?__"
   ]
  },
  {
   "cell_type": "code",
   "execution_count": 7,
   "metadata": {},
   "outputs": [
    {
     "name": "stdout",
     "output_type": "stream",
     "text": [
      "perceptron voor de update Perceptron: weights=[-6, -4, -5, 2], bias=[-8], output =0\n",
      "perceptron na de update Perceptron: weights=[817.2199999999876, -210.4899999999953, 2052.44999999977, 894.8600000000789], bias=[-1.8], output =1\n"
     ]
    }
   ],
   "source": [
    "predict = test(data, target, 4)"
   ]
  },
  {
   "cell_type": "code",
   "execution_count": 8,
   "metadata": {},
   "outputs": [
    {
     "data": {
      "text/plain": [
       "0.3333333333333333"
      ]
     },
     "execution_count": 8,
     "metadata": {},
     "output_type": "execute_result"
    }
   ],
   "source": [
    "accuracy_score(target, predict)"
   ]
  },
  {
   "cell_type": "markdown",
   "metadata": {},
   "source": [
    "__Resulaten__"
   ]
  },
  {
   "cell_type": "markdown",
   "metadata": {},
   "source": [
    "Zoals je hieronder ziet, wordt er ongeveer 33,33% goed geclassficeerd. Dat betenkt dat er alleen 1/3 van de target goed wordt voorspeeld. Dat kunnen we het beste zien in de heatmap hieronder zien. Dat de perceptron zo slecht 3 targets kan voorspellen kan komen omdat het geen lineare probleem is. Dit probeleem kan mogelijk opgelost worden met de sigmoid functie."
   ]
  },
  {
   "cell_type": "code",
   "execution_count": 9,
   "metadata": {},
   "outputs": [
    {
     "data": {
      "text/plain": [
       "<matplotlib.axes._subplots.AxesSubplot at 0x20152fd4908>"
      ]
     },
     "execution_count": 9,
     "metadata": {},
     "output_type": "execute_result"
    },
    {
     "data": {
      "image/png": "[encoded data removed]",
      "text/plain": [
       "<Figure size 432x288 with 2 Axes>"
      ]
     },
     "metadata": {
      "needs_background": "light"
     },
     "output_type": "display_data"
    }
   ],
   "source": [
    "sns.heatmap(confusion_matrix(target, predict))"
   ]
  },
  {
   "cell_type": "markdown",
   "metadata": {},
   "source": [
    "__Heeft het aantaal features hier invloed op?__"
   ]
  },
  {
   "cell_type": "markdown",
   "metadata": {},
   "source": [
    "Zou de preceptron iets beter kunnen presenteren als we het predicten met alleen maar de helft van de featurers doen? \n",
    "Hier onder kiezen we voor de PetalLengthCm en PetalWidthCm als features."
   ]
  },
  {
   "cell_type": "code",
   "execution_count": 10,
   "metadata": {},
   "outputs": [],
   "source": [
    "patel_data = data[:,2:]"
   ]
  },
  {
   "cell_type": "code",
   "execution_count": 12,
   "metadata": {},
   "outputs": [
    {
     "name": "stdout",
     "output_type": "stream",
     "text": [
      "perceptron voor de update Perceptron: weights=[1, -1], bias=[-2], output =0\n",
      "perceptron na de update Perceptron: weights=[2054.5599999997694, 890.6200000000789], bias=[3.3], output =1\n"
     ]
    }
   ],
   "source": [
    "predict = test(patel_data, target, 2)"
   ]
  },
  {
   "cell_type": "code",
   "execution_count": 13,
   "metadata": {},
   "outputs": [
    {
     "data": {
      "text/plain": [
       "0.3333333333333333"
      ]
     },
     "execution_count": 13,
     "metadata": {},
     "output_type": "execute_result"
    }
   ],
   "source": [
    "accuracy_score(target, predict)"
   ]
  },
  {
   "cell_type": "markdown",
   "metadata": {},
   "source": [
    "__Resultaten__\n",
    "\n",
    "zoals je hier boven ziet, heeft het aantaal features geen invloed op de werking van de preceptron. Het maakt dus niet uit of je alles features gebruikt of niet. Want de accuracy score blijft hetzelfde. "
   ]
  },
  {
   "cell_type": "markdown",
   "metadata": {},
   "source": [
    "____________________"
   ]
  },
  {
   "cell_type": "markdown",
   "metadata": {},
   "source": [
    "__i.Classificeer eerst alleen de types Setosa en Versicolour. Wat zijn de uiteindelijke parameters van de perceptron?__\n"
   ]
  },
  {
   "cell_type": "code",
   "execution_count": 14,
   "metadata": {},
   "outputs": [],
   "source": [
    "# We pakken alleen de data van de Setosa en Versicolour bloemen.\n",
    "twee_iris = data[:100]\n",
    "twee_iris_target = target[:100]"
   ]
  },
  {
   "cell_type": "code",
   "execution_count": 15,
   "metadata": {},
   "outputs": [
    {
     "name": "stdout",
     "output_type": "stream",
     "text": [
      "perceptron voor de update Perceptron: weights=[0, 3, -7, -9], bias=[3], output =0\n",
      "perceptron na de update Perceptron: weights=[0.42000000000000015, -1.9200000000000004, 3.6000000000000028, -4.369999999999974], bias=[1.9], output =1\n"
     ]
    }
   ],
   "source": [
    "predict = test(twee_iris, twee_iris_target, 4)"
   ]
  },
  {
   "cell_type": "code",
   "execution_count": 16,
   "metadata": {},
   "outputs": [
    {
     "data": {
      "text/plain": [
       "1.0"
      ]
     },
     "execution_count": 16,
     "metadata": {},
     "output_type": "execute_result"
    }
   ],
   "source": [
    "accuracy_score(twee_iris_target, predict)"
   ]
  },
  {
   "cell_type": "markdown",
   "metadata": {},
   "source": [
    "__Resultaten__\n",
    "\n",
    "We zien dat de accuracy score 100% is. Dat betekent dat de perceptron de twee sorten bloemnen goed kan classificeren. Dat is zeker overgefit maar voor deze opdracht maakt het niet uit. "
   ]
  },
  {
   "cell_type": "markdown",
   "metadata": {},
   "source": [
    "__De andere twee soorten bloemen__\n",
    "\n",
    "\n",
    "__Versicolour en Virginica__ "
   ]
  },
  {
   "cell_type": "code",
   "execution_count": 17,
   "metadata": {},
   "outputs": [],
   "source": [
    "twee_target_2 = target[50:]\n",
    "twee_data = data[50:]"
   ]
  },
  {
   "cell_type": "code",
   "execution_count": 18,
   "metadata": {},
   "outputs": [
    {
     "name": "stdout",
     "output_type": "stream",
     "text": [
      "perceptron voor de update Perceptron: weights=[6, 9, -3, -10], bias=[-5], output =0\n",
      "perceptron na de update Perceptron: weights=[3300.0000000000205, 1495.9999999999202, 2773.0000000000064, 1003.0000000000191], bias=[495.], output =1\n"
     ]
    }
   ],
   "source": [
    "predict = test(twee_data, twee_target_2, 4)"
   ]
  },
  {
   "cell_type": "code",
   "execution_count": 19,
   "metadata": {},
   "outputs": [
    {
     "data": {
      "text/plain": [
       "0.5"
      ]
     },
     "execution_count": 19,
     "metadata": {},
     "output_type": "execute_result"
    }
   ],
   "source": [
    "accuracy_score(twee_target_2, predict)"
   ]
  },
  {
   "cell_type": "markdown",
   "metadata": {},
   "source": [
    "__Resultaten__\n",
    "\n",
    "Uit de score van de accruacy van 2 soorten bloemen, zien we dat een perceptron veel meer moeite heeft met onderscheid vinden tussen deze twee soreten bloemen. Dat komt(zoals we hieronder in de grafiek konden zien) omdat deze twee soorten heel erg op elkaar lijken. "
   ]
  },
  {
   "cell_type": "code",
   "execution_count": 20,
   "metadata": {},
   "outputs": [
    {
     "data": {
      "image/png": "[encoded data removed]",
      "text/plain": [
       "<Figure size 576x360 with 2 Axes>"
      ]
     },
     "metadata": {
      "needs_background": "light"
     },
     "output_type": "display_data"
    }
   ],
   "source": [
    "# Bron: https://scipy-lectures.org/packages/scikit-learn/auto_examples/plot_iris_scatter.html\n",
    "x_index = 0\n",
    "y_index = 1\n",
    "\n",
    "# this formatter will label the colorbar with the correct target names\n",
    "formatter = plt.FuncFormatter(lambda i, *args: iris.target_names[int(i)])\n",
    "\n",
    "plt.figure(figsize=(8, 5))\n",
    "plt.scatter(iris.data[:, x_index], iris.data[:, y_index], c=iris.target)\n",
    "plt.colorbar(ticks=[0, 1, 2], format=formatter)\n",
    "plt.xlabel(iris.feature_names[x_index])\n",
    "plt.ylabel(iris.feature_names[y_index])\n",
    "\n",
    "plt.tight_layout()\n",
    "plt.show()"
   ]
  }
 ],
 "metadata": {
  "kernelspec": {
   "display_name": "Python 3",
   "language": "python",
   "name": "python3"
  },
  "language_info": {
   "codemirror_mode": {
    "name": "ipython",
    "version": 3
   },
   "file_extension": ".py",
   "mimetype": "text/x-python",
   "name": "python",
   "nbconvert_exporter": "python",
   "pygments_lexer": "ipython3",
   "version": "3.7.4"
  }
 },
 "nbformat": 4,
 "nbformat_minor": 2
}
