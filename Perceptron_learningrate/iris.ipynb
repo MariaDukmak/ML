{
 "cells": [
  {
   "cell_type": "markdown",
   "metadata": {},
   "source": [
    "### Train de perceptron om de Iris-dataset te classificeren"
   ]
  },
  {
   "cell_type": "code",
   "execution_count": 1,
   "metadata": {},
   "outputs": [
    {
     "name": "stderr",
     "output_type": "stream",
     "text": [
      "C:\\Users\\marya\\Anaconda3\\lib\\site-packages\\statsmodels\\tools\\_testing.py:19: FutureWarning: pandas.util.testing is deprecated. Use the functions in the public API at pandas.testing instead.\n",
      "  import pandas.util.testing as tm\n"
     ]
    }
   ],
   "source": [
    "from sklearn.datasets import load_iris\n",
    "from sklearn.metrics import accuracy_score, confusion_matrix\n",
    "import seaborn as sns \n",
    "import random\n",
    "import sys\n",
    "sys.path.append(\"/Users/marya/OneDrive/Bureaublad/ML\")\n",
    "import perceptron "
   ]
  },
  {
   "cell_type": "markdown",
   "metadata": {},
   "source": [
    "Set de random seed gelijk aan mijn studentennummer zoals het in de opdracht stond."
   ]
  },
  {
   "cell_type": "code",
   "execution_count": 2,
   "metadata": {},
   "outputs": [],
   "source": [
    "random.seed(1756450)"
   ]
  },
  {
   "cell_type": "markdown",
   "metadata": {},
   "source": [
    "We maken eerst een functie aan die random getallen kan genereren."
   ]
  },
  {
   "cell_type": "code",
   "execution_count": 3,
   "metadata": {},
   "outputs": [],
   "source": [
    "def random_number(n=1):\n",
    "    if n == 1:\n",
    "        return random.randrange(-10, 10)\n",
    "    else: return [random.randrange(-10, 10) for i in range((n))]"
   ]
  },
  {
   "cell_type": "markdown",
   "metadata": {},
   "source": [
    "Nu tijd om de data set te loaden en met de opdracht te beginnen! "
   ]
  },
  {
   "cell_type": "code",
   "execution_count": 4,
   "metadata": {},
   "outputs": [],
   "source": [
    "iris = load_iris()"
   ]
  },
  {
   "cell_type": "markdown",
   "metadata": {},
   "source": [
    "__ii. Classificeer daarna alle drie de types, dus ook Verginica. Wat zijn de uiteindelijke parameters van de perceptron?__"
   ]
  },
  {
   "cell_type": "markdown",
   "metadata": {},
   "source": [
    "We pakken de data en de targets van de dataset. Die gaan we verolgens verder gebruiken bij het trainen van de perceptron."
   ]
  },
  {
   "cell_type": "code",
   "execution_count": 5,
   "metadata": {},
   "outputs": [],
   "source": [
    "data, target = iris['data'], iris[\"target\"]"
   ]
  },
  {
   "cell_type": "code",
   "execution_count": 6,
   "metadata": {},
   "outputs": [],
   "source": [
    "# alle kolommen\n",
    "def test_alles(data, target):\n",
    "    perceptronn = perceptron.Perceptron(weights=random_number(4), bias=random_number(), threshold=random_number())  \n",
    "    print(perceptronn)\n",
    "    \n",
    "    for i in range(10):\n",
    "        for n in range(len(data)):\n",
    "            perceptronn.update(data[n], target[n])\n",
    "    print(perceptronn)\n",
    "    \n",
    "    return [perceptronn.predict(data[i]) for i in range(len(data))]"
   ]
  },
  {
   "cell_type": "code",
   "execution_count": 7,
   "metadata": {},
   "outputs": [
    {
     "name": "stdout",
     "output_type": "stream",
     "text": [
      "Perceptron: weights=[-6, -4, -5, 2], bias=-8, output =None\n",
      "Perceptron: weights=[105.32000000000006, -6.189999999999997, 211.95000000000056, 93.86000000000006], bias=-1.8000000000000123, output =1\n"
     ]
    }
   ],
   "source": [
    "predict = test_alles(data, target)"
   ]
  },
  {
   "cell_type": "markdown",
   "metadata": {},
   "source": [
    "__Resulaten__"
   ]
  },
  {
   "cell_type": "markdown",
   "metadata": {},
   "source": [
    "Zoals je hieronder ziet, wordt er ongeveer 33,33% goed geclassficeerd. Dat betenkt dat er alleen 1/3 van de target goed wordt voorspeeld. Dat kunnen we het beste zien in de heatmap hieronder zien. Dat de perceptron zo slecht 3 targets kan voorspellen kan komen omdat het geen lineare probleem is. Dit probeleem kan mogelijk opgelost worden met de sigmoid functie."
   ]
  },
  {
   "cell_type": "code",
   "execution_count": 8,
   "metadata": {},
   "outputs": [
    {
     "data": {
      "text/plain": [
       "0.3333333333333333"
      ]
     },
     "execution_count": 8,
     "metadata": {},
     "output_type": "execute_result"
    }
   ],
   "source": [
    "accuracy_score(target, predict)"
   ]
  },
  {
   "cell_type": "code",
   "execution_count": 9,
   "metadata": {},
   "outputs": [
    {
     "data": {
      "text/plain": [
       "<matplotlib.axes._subplots.AxesSubplot at 0x2049cf12bc8>"
      ]
     },
     "execution_count": 9,
     "metadata": {},
     "output_type": "execute_result"
    },
    {
     "data": {
      "image/png": "[encoded data removed]",
      "text/plain": [
       "<Figure size 432x288 with 2 Axes>"
      ]
     },
     "metadata": {
      "needs_background": "light"
     },
     "output_type": "display_data"
    }
   ],
   "source": [
    "sns.heatmap(confusion_matrix(target, predict))"
   ]
  },
  {
   "cell_type": "markdown",
   "metadata": {},
   "source": [
    "__Heeft het aantaal features hier invloed op?__"
   ]
  },
  {
   "cell_type": "code",
   "execution_count": 10,
   "metadata": {},
   "outputs": [],
   "source": [
    "def twee_features(data, target):\n",
    "    perceptronn = perceptron.Perceptron(weights=random_number(2), bias=random_number(), threshold=random_number())  \n",
    "    print(perceptronn)\n",
    "    \n",
    "    for i in range(10):\n",
    "        for n in range(len(data)):\n",
    "            perceptronn.update(data[n], target[n])\n",
    "    print(perceptronn)\n",
    "    \n",
    "    return [perceptronn.predict(data[i]) for i in range(len(data))]"
   ]
  },
  {
   "cell_type": "code",
   "execution_count": 11,
   "metadata": {},
   "outputs": [],
   "source": [
    "patel_data = data[:,2:]"
   ]
  },
  {
   "cell_type": "code",
   "execution_count": 12,
   "metadata": {},
   "outputs": [
    {
     "name": "stdout",
     "output_type": "stream",
     "text": [
      "Perceptron: weights=[1, -1], bias=-2, output =None\n",
      "Perceptron: weights=[214.06000000000068, 89.6199999999999], bias=3.3000000000000025, output =1\n"
     ]
    }
   ],
   "source": [
    "predict = twee_features(patel_data, target)"
   ]
  },
  {
   "cell_type": "code",
   "execution_count": 13,
   "metadata": {},
   "outputs": [
    {
     "data": {
      "text/plain": [
       "0.3333333333333333"
      ]
     },
     "execution_count": 13,
     "metadata": {},
     "output_type": "execute_result"
    }
   ],
   "source": [
    "accuracy_score(target, predict)"
   ]
  },
  {
   "cell_type": "markdown",
   "metadata": {},
   "source": [
    "____________________"
   ]
  },
  {
   "cell_type": "markdown",
   "metadata": {},
   "source": [
    "__i.Classificeer eerst alleen de types Setosa en Versicolour. Wat zijn de uiteindelijke parameters van de perceptron?__\n"
   ]
  },
  {
   "cell_type": "code",
   "execution_count": 14,
   "metadata": {},
   "outputs": [],
   "source": [
    "def twee_bloemen(data, target):\n",
    "    perceptronn = perceptron.Perceptron(weights=random_number(4), bias=random_number(), threshold=random_number())  \n",
    "    print(perceptronn)\n",
    "    \n",
    "    for i in range(10):\n",
    "        for n in range(len(data)):\n",
    "            perceptronn.update(data[n], target[n])\n",
    "    print(perceptronn)\n",
    "    \n",
    "    return [perceptronn.predict(data[i]) for i in range(len(data))]"
   ]
  },
  {
   "cell_type": "code",
   "execution_count": 15,
   "metadata": {},
   "outputs": [],
   "source": [
    "twee_iris = data[:100]\n",
    "twee_iris_target = target[:100]"
   ]
  },
  {
   "cell_type": "code",
   "execution_count": 16,
   "metadata": {},
   "outputs": [
    {
     "name": "stdout",
     "output_type": "stream",
     "text": [
      "Perceptron: weights=[0, 3, -7, -9], bias=3, output =None\n",
      "Perceptron: weights=[1.23, -0.44999999999999973, 1.9600000000000026, -5.209999999999978], bias=2.1999999999999993, output =1\n"
     ]
    }
   ],
   "source": [
    "predict = twee_bloemen(twee_iris, twee_iris_target)"
   ]
  },
  {
   "cell_type": "code",
   "execution_count": 17,
   "metadata": {},
   "outputs": [
    {
     "data": {
      "text/plain": [
       "0.5"
      ]
     },
     "execution_count": 17,
     "metadata": {},
     "output_type": "execute_result"
    }
   ],
   "source": [
    "accuracy_score(twee_iris_target, predict)"
   ]
  },
  {
   "cell_type": "code",
   "execution_count": 18,
   "metadata": {},
   "outputs": [],
   "source": [
    "# laatste twee soorten"
   ]
  },
  {
   "cell_type": "code",
   "execution_count": 19,
   "metadata": {},
   "outputs": [],
   "source": [
    "twee_target_2 = target[50:]\n",
    "twee_data = data[50:]"
   ]
  },
  {
   "cell_type": "code",
   "execution_count": 20,
   "metadata": {},
   "outputs": [
    {
     "name": "stdout",
     "output_type": "stream",
     "text": [
      "Perceptron: weights=[6, 9, -3, -10], bias=-5, output =None\n",
      "Perceptron: weights=[335.39999999999975, 157.70000000000013, 274.6, 91.30000000000015], bias=45.00000000000037, output =1\n"
     ]
    }
   ],
   "source": [
    "predict = twee_bloemen(twee_data, twee_target_2)"
   ]
  },
  {
   "cell_type": "code",
   "execution_count": 21,
   "metadata": {},
   "outputs": [
    {
     "data": {
      "text/plain": [
       "0.5"
      ]
     },
     "execution_count": 21,
     "metadata": {},
     "output_type": "execute_result"
    }
   ],
   "source": [
    "accuracy_score(twee_target_2, predict)"
   ]
  },
  {
   "cell_type": "markdown",
   "metadata": {},
   "source": [
    "zoals we uit de score van de accruacy van 2 soorten bloemen, zien we dat een perceptron veel makkelijker twee sorten kan groeperen. Dat kan komen omdat het dan een lineare probleem is."
   ]
  },
  {
   "cell_type": "code",
   "execution_count": null,
   "metadata": {},
   "outputs": [],
   "source": []
  }
 ],
 "metadata": {
  "kernelspec": {
   "display_name": "Python 3",
   "language": "python",
   "name": "python3"
  },
  "language_info": {
   "codemirror_mode": {
    "name": "ipython",
    "version": 3
   },
   "file_extension": ".py",
   "mimetype": "text/x-python",
   "name": "python",
   "nbconvert_exporter": "python",
   "pygments_lexer": "ipython3",
   "version": "3.7.4"
  }
 },
 "nbformat": 4,
 "nbformat_minor": 2
}
